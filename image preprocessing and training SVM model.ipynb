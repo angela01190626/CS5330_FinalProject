{
 "cells": [
  {
   "cell_type": "code",
   "execution_count": 1,
   "id": "4876036f",
   "metadata": {},
   "outputs": [],
   "source": [
    "from sklearn.decomposition import PCA\n",
    "import matplotlib.pyplot as plt\n",
    "import numpy as np\n",
    "import pandas as pd\n",
    "import cv2 \n",
    "import os\n",
    "import fnmatch"
   ]
  },
  {
   "cell_type": "code",
   "execution_count": 2,
   "id": "890d1f55",
   "metadata": {},
   "outputs": [
    {
     "data": {
      "text/plain": [
       "8"
      ]
     },
     "execution_count": 2,
     "metadata": {},
     "output_type": "execute_result"
    }
   ],
   "source": [
    "train_path = \"Demo_dataset\"\n",
    "train_chinese = os.listdir(train_path)\n",
    "df_train = pd.DataFrame(columns=[\"character\", \"filename\", \"label\"])\n",
    "len(train_chinese)"
   ]
  },
  {
   "cell_type": "code",
   "execution_count": 3,
   "id": "3d8ec158",
   "metadata": {},
   "outputs": [],
   "source": [
    "k = 0\n",
    "for i in train_chinese:\n",
    "    if i != \".DS_Store\":\n",
    "        l = os.listdir(train_path + '/' + i)\n",
    "        l = fnmatch.filter(l, '*.png')\n",
    "        if len(l) > 200:\n",
    "            l = l[:200]\n",
    "        label = [k] * len(l)\n",
    "        temp = pd.DataFrame({\n",
    "            \"character\": i,\n",
    "            \"filename\": l,\n",
    "            \"label\": label\n",
    "        })\n",
    "        #print(temp)\n",
    "        df_train = pd.concat([df_train, temp])      \n",
    "    k += 1\n",
    "        "
   ]
  },
  {
   "cell_type": "code",
   "execution_count": 4,
   "id": "4c1f1e24",
   "metadata": {},
   "outputs": [
    {
     "data": {
      "text/html": [
       "<div>\n",
       "<style scoped>\n",
       "    .dataframe tbody tr th:only-of-type {\n",
       "        vertical-align: middle;\n",
       "    }\n",
       "\n",
       "    .dataframe tbody tr th {\n",
       "        vertical-align: top;\n",
       "    }\n",
       "\n",
       "    .dataframe thead th {\n",
       "        text-align: right;\n",
       "    }\n",
       "</style>\n",
       "<table border=\"1\" class=\"dataframe\">\n",
       "  <thead>\n",
       "    <tr style=\"text-align: right;\">\n",
       "      <th></th>\n",
       "      <th>character</th>\n",
       "      <th>filename</th>\n",
       "      <th>label</th>\n",
       "    </tr>\n",
       "  </thead>\n",
       "  <tbody>\n",
       "    <tr>\n",
       "      <th>0</th>\n",
       "      <td>理</td>\n",
       "      <td>176.png</td>\n",
       "      <td>0</td>\n",
       "    </tr>\n",
       "    <tr>\n",
       "      <th>1</th>\n",
       "      <td>理</td>\n",
       "      <td>88.png</td>\n",
       "      <td>0</td>\n",
       "    </tr>\n",
       "    <tr>\n",
       "      <th>2</th>\n",
       "      <td>理</td>\n",
       "      <td>162.png</td>\n",
       "      <td>0</td>\n",
       "    </tr>\n",
       "    <tr>\n",
       "      <th>3</th>\n",
       "      <td>理</td>\n",
       "      <td>189.png</td>\n",
       "      <td>0</td>\n",
       "    </tr>\n",
       "    <tr>\n",
       "      <th>4</th>\n",
       "      <td>理</td>\n",
       "      <td>77.png</td>\n",
       "      <td>0</td>\n",
       "    </tr>\n",
       "    <tr>\n",
       "      <th>...</th>\n",
       "      <td>...</td>\n",
       "      <td>...</td>\n",
       "      <td>...</td>\n",
       "    </tr>\n",
       "    <tr>\n",
       "      <th>195</th>\n",
       "      <td>鸫</td>\n",
       "      <td>93.png</td>\n",
       "      <td>7</td>\n",
       "    </tr>\n",
       "    <tr>\n",
       "      <th>196</th>\n",
       "      <td>鸫</td>\n",
       "      <td>78.png</td>\n",
       "      <td>7</td>\n",
       "    </tr>\n",
       "    <tr>\n",
       "      <th>197</th>\n",
       "      <td>鸫</td>\n",
       "      <td>186.png</td>\n",
       "      <td>7</td>\n",
       "    </tr>\n",
       "    <tr>\n",
       "      <th>198</th>\n",
       "      <td>鸫</td>\n",
       "      <td>192.png</td>\n",
       "      <td>7</td>\n",
       "    </tr>\n",
       "    <tr>\n",
       "      <th>199</th>\n",
       "      <td>鸫</td>\n",
       "      <td>44.png</td>\n",
       "      <td>7</td>\n",
       "    </tr>\n",
       "  </tbody>\n",
       "</table>\n",
       "<p>1600 rows × 3 columns</p>\n",
       "</div>"
      ],
      "text/plain": [
       "    character filename label\n",
       "0           理  176.png     0\n",
       "1           理   88.png     0\n",
       "2           理  162.png     0\n",
       "3           理  189.png     0\n",
       "4           理   77.png     0\n",
       "..        ...      ...   ...\n",
       "195         鸫   93.png     7\n",
       "196         鸫   78.png     7\n",
       "197         鸫  186.png     7\n",
       "198         鸫  192.png     7\n",
       "199         鸫   44.png     7\n",
       "\n",
       "[1600 rows x 3 columns]"
      ]
     },
     "execution_count": 4,
     "metadata": {},
     "output_type": "execute_result"
    }
   ],
   "source": [
    "df_train"
   ]
  },
  {
   "cell_type": "code",
   "execution_count": 5,
   "id": "9afe77d0",
   "metadata": {},
   "outputs": [],
   "source": [
    "train_array = np.zeros((df_train.shape[0], 128, 128, 3))\n",
    "for i in range(df_train.shape[0]):\n",
    "    if df_train.iloc[i]['filename'] != \".DS_Store\":\n",
    "        image_path = train_path + '/' + df_train.iloc[i]['character'] + '/' + df_train.iloc[i]['filename']\n",
    "        # get grayscale image\n",
    "        # print(image_path)\n",
    "        image = cv2.imread(image_path)\n",
    "        # remove noise\n",
    "        out = cv2.medianBlur(image, 5)\n",
    "        # normalize the image\n",
    "        resultimage = np.zeros(out.shape)\n",
    "        normalizedimage = cv2.normalize(out, resultimage, 0, 255, cv2.NORM_MINMAX)\n",
    "        # resize the image \n",
    "        resizeimage = cv2.resize(normalizedimage, (128,128))\n",
    "\n",
    "        blue, green, red = cv2.split(resizeimage) \n",
    "        # apply principal component analysis\n",
    "        pca = PCA(50)\n",
    "        red_transformed = pca.fit_transform(red)\n",
    "        red_inverted = pca.inverse_transform(red_transformed)\n",
    "\n",
    "        #Applying to Green channel and then applying inverse transform to transformed array.\n",
    "        green_transformed = pca.fit_transform(green)\n",
    "        green_inverted = pca.inverse_transform(green_transformed)\n",
    "\n",
    "        #Applying to Blue channel and then applying inverse transform to transformed array.\n",
    "        blue_transformed = pca.fit_transform(blue)\n",
    "        blue_inverted = pca.inverse_transform(blue_transformed)\n",
    "\n",
    "        img_compressed = (np.dstack((red_inverted, green_inverted, blue_inverted))).astype(np.uint8)\n",
    "        train_array[i] = img_compressed\n",
    "\n"
   ]
  },
  {
   "cell_type": "code",
   "execution_count": 6,
   "id": "800b244f",
   "metadata": {},
   "outputs": [
    {
     "data": {
      "text/plain": [
       "(1600, 128, 128, 3)"
      ]
     },
     "execution_count": 6,
     "metadata": {},
     "output_type": "execute_result"
    }
   ],
   "source": [
    "train_array.shape"
   ]
  },
  {
   "cell_type": "code",
   "execution_count": 7,
   "id": "7cdb4e96",
   "metadata": {},
   "outputs": [],
   "source": [
    "X = np.array(train_array).reshape(len(train_array),-1)\n",
    "y = np.asarray(df_train[\"label\"].astype('int'))"
   ]
  },
  {
   "cell_type": "code",
   "execution_count": 8,
   "id": "aad037ab",
   "metadata": {},
   "outputs": [],
   "source": [
    "# scaling the data\n",
    "X = X / 255.0"
   ]
  },
  {
   "cell_type": "code",
   "execution_count": 9,
   "id": "7db171be",
   "metadata": {},
   "outputs": [],
   "source": [
    "from sklearn.model_selection import train_test_split\n",
    "X_train, X_test, y_train, y_test = train_test_split(X,y)"
   ]
  },
  {
   "cell_type": "code",
   "execution_count": 10,
   "id": "661d9fa0",
   "metadata": {},
   "outputs": [
    {
     "data": {
      "text/plain": [
       "SVC(C=0.1, kernel='linear')"
      ]
     },
     "execution_count": 10,
     "metadata": {},
     "output_type": "execute_result"
    }
   ],
   "source": [
    "from sklearn.svm import SVC\n",
    "svc = SVC(kernel='linear', C = 0.1)\n",
    "svc.fit(X_train, y_train)"
   ]
  },
  {
   "cell_type": "code",
   "execution_count": 11,
   "id": "caa13b5a",
   "metadata": {},
   "outputs": [],
   "source": [
    "y_predicted = svc.predict(X_test)"
   ]
  },
  {
   "cell_type": "code",
   "execution_count": 12,
   "id": "7f05e950",
   "metadata": {},
   "outputs": [
    {
     "name": "stdout",
     "output_type": "stream",
     "text": [
      "Accuracy on unknown data is 0.8725\n"
     ]
    }
   ],
   "source": [
    "from sklearn.metrics import accuracy_score\n",
    "print(\"Accuracy on unknown data is\", accuracy_score(y_test, y_predicted))"
   ]
  },
  {
   "cell_type": "code",
   "execution_count": null,
   "id": "66a7a8e8",
   "metadata": {},
   "outputs": [],
   "source": []
  }
 ],
 "metadata": {
  "kernelspec": {
   "display_name": "Python 3 (ipykernel)",
   "language": "python",
   "name": "python3"
  },
  "language_info": {
   "codemirror_mode": {
    "name": "ipython",
    "version": 3
   },
   "file_extension": ".py",
   "mimetype": "text/x-python",
   "name": "python",
   "nbconvert_exporter": "python",
   "pygments_lexer": "ipython3",
   "version": "3.9.12"
  }
 },
 "nbformat": 4,
 "nbformat_minor": 5
}
