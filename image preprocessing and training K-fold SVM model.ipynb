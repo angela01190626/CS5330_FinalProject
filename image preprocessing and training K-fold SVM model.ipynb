{
 "cells": [
  {
   "cell_type": "code",
   "execution_count": 1,
   "id": "6516bef5",
   "metadata": {},
   "outputs": [],
   "source": [
    "from sklearn.decomposition import PCA\n",
    "import matplotlib.pyplot as plt\n",
    "from sklearn.model_selection import KFold\n",
    "import numpy as np\n",
    "import pandas as pd\n",
    "import cv2 \n",
    "import os\n",
    "import fnmatch\n",
    "from sklearn import svm\n",
    "from sklearn.metrics import accuracy_score"
   ]
  },
  {
   "cell_type": "code",
   "execution_count": 2,
   "id": "246b5065",
   "metadata": {},
   "outputs": [
    {
     "data": {
      "text/plain": [
       "8"
      ]
     },
     "execution_count": 2,
     "metadata": {},
     "output_type": "execute_result"
    }
   ],
   "source": [
    "train_path = \"Demo_dataset\"\n",
    "train_chinese = os.listdir(train_path)\n",
    "df_train = pd.DataFrame(columns=[\"character\", \"filename\", \"label\"])\n",
    "df_test = pd.DataFrame(columns=[\"character\", \"filename\", \"label\"])\n",
    "len(train_chinese)"
   ]
  },
  {
   "cell_type": "code",
   "execution_count": 3,
   "id": "5d6d5f35",
   "metadata": {},
   "outputs": [],
   "source": [
    "def image_preprocessing(df_train):\n",
    "    array = np.zeros((df_train.shape[0], 128, 128, 3))\n",
    "    for i in range(df_train.shape[0]):\n",
    "        if df_train.iloc[i]['filename'] != \".DS_Store\":\n",
    "            image_path = train_path + '/' + df_train.iloc[i]['character'] + '/' + df_train.iloc[i]['filename']\n",
    "            # get grayscale image\n",
    "            # print(image_path)\n",
    "            image = cv2.imread(image_path)\n",
    "            # remove noise\n",
    "            out = cv2.medianBlur(image, 5)\n",
    "            # normalize the image\n",
    "            resultimage = np.zeros(out.shape)\n",
    "            normalizedimage = cv2.normalize(out, resultimage, 0, 255, cv2.NORM_MINMAX)\n",
    "            # resize the image \n",
    "            resizeimage = cv2.resize(normalizedimage, (128,128))\n",
    "\n",
    "            blue, green, red = cv2.split(resizeimage) \n",
    "            # apply principal component analysis\n",
    "            pca = PCA(50)\n",
    "            red_transformed = pca.fit_transform(red)\n",
    "            red_inverted = pca.inverse_transform(red_transformed)\n",
    "\n",
    "            #Applying to Green channel and then applying inverse transform to transformed array.\n",
    "            green_transformed = pca.fit_transform(green)\n",
    "            green_inverted = pca.inverse_transform(green_transformed)\n",
    "\n",
    "            #Applying to Blue channel and then applying inverse transform to transformed array.\n",
    "            blue_transformed = pca.fit_transform(blue)\n",
    "            blue_inverted = pca.inverse_transform(blue_transformed)\n",
    "\n",
    "            img_compressed = (np.dstack((red_inverted, green_inverted, blue_inverted))).astype(np.uint8)\n",
    "            array[i] = img_compressed\n",
    "    return array"
   ]
  },
  {
   "cell_type": "code",
   "execution_count": 4,
   "id": "627e7262",
   "metadata": {},
   "outputs": [],
   "source": [
    "k = 0\n",
    "for i in range(len(train_chinese)):\n",
    "    if i != \".DS_Store\":\n",
    "        l = os.listdir(train_path + '/' + train_chinese[i])\n",
    "        l = fnmatch.filter(l, '*.png')\n",
    "        l = np.array(l)\n",
    "        kf = KFold(n_splits = 5, random_state = None, shuffle = False)\n",
    "        if len(l) >= 200:\n",
    "            l = l[:200]\n",
    "            for j, (train_index, test_index) in enumerate(kf.split(l)):\n",
    "                if len(l) >= 200:\n",
    "                    l = l[:200]\n",
    "                    label_train = [k] * len(l[train_index])\n",
    "                    label_test = [k] * len(l[test_index])\n",
    "                    temp1 = pd.DataFrame({\n",
    "                        \"character\": train_chinese[i],\n",
    "                        \"filename\": l[train_index],\n",
    "                        \"label\": label_train\n",
    "                    })\n",
    "                    temp2 = pd.DataFrame({\n",
    "                        \"character\": train_chinese[i],\n",
    "                        \"filename\": l[test_index],\n",
    "                        \"label\": label_test\n",
    "                    })\n",
    "                    #print(temp)\n",
    "                    df_train = pd.concat([df_train, temp1])  \n",
    "                    df_test = pd.concat([df_test, temp2])\n",
    "        k += 1\n",
    "                "
   ]
  },
  {
   "cell_type": "code",
   "execution_count": 5,
   "id": "f0bb7eb9",
   "metadata": {},
   "outputs": [],
   "source": [
    "train_array = image_preprocessing(df_train)\n",
    "test_array = image_preprocessing(df_test)\n",
    "#print(train_array.shape)\n",
    "#print(test_array.shape)\n",
    "X_train = np.array(train_array).reshape(len(train_array),-1)\n",
    "X_train = X_train / 255.0\n",
    "y_train = df_train[\"label\"].astype('int')\n",
    "\n",
    "X_test = np.array(test_array).reshape(len(test_array),-1)\n",
    "X_test = X_test / 255.0\n",
    "y_test = df_test[\"label\"].astype('int')"
   ]
  },
  {
   "cell_type": "code",
   "execution_count": 6,
   "id": "e0541b28",
   "metadata": {},
   "outputs": [],
   "source": [
    "train_X = np.zeros((5, X_train.shape[0], 49152))\n",
    "train_y = np.zeros((5, y_train.shape[0]))\n",
    "test_X = np.zeros((5, X_test.shape[0], 49152))\n",
    "test_y = np.zeros((5, y_test.shape[0]))"
   ]
  },
  {
   "cell_type": "code",
   "execution_count": 7,
   "id": "80853095",
   "metadata": {},
   "outputs": [],
   "source": [
    "for i in range(8):\n",
    "    x1 = X_train[800 * i : 800 * (i + 1)]\n",
    "    y1 = y_train[800 * i : 800 * (i + 1)]\n",
    "    x2 = X_test[200 * i : 200  * (i + 1)]\n",
    "    y2 = y_test[200 * i : 200 * (i + 1)]\n",
    "    for j in range(5):\n",
    "        #print(i, j)\n",
    "        #print(160 * i, 160 * (i+1))\n",
    "        train_X[j][160 * i  : 160 * (i+1)]  = x1[160 * j : 160 * (j + 1)]\n",
    "        train_y[j][160 * i  : 160 * (i+1)]  = y1[160 * j : 160 * (j + 1)]\n",
    "        test_X[j][40 * i : 40 * (i + 1)] = x2[40 * j : 40  * (j + 1)]\n",
    "        test_y[j][40 * i : 40 * (i + 1)] = y2[40 * j : 40  * (j + 1)]\n",
    "        \n",
    "    "
   ]
  },
  {
   "cell_type": "code",
   "execution_count": 8,
   "id": "c0061865",
   "metadata": {},
   "outputs": [],
   "source": [
    "accuracy = []\n",
    "for i in range(5):\n",
    "    svc=svm.SVC(kernel = 'linear', C = 0.1)\n",
    "    svc.fit(train_X[i], train_y[i])\n",
    "    y2 = svc.predict(test_X[i])\n",
    "    accuracy.append(accuracy_score(test_y[i],y2))"
   ]
  },
  {
   "cell_type": "code",
   "execution_count": 9,
   "id": "431da55c",
   "metadata": {},
   "outputs": [
    {
     "name": "stdout",
     "output_type": "stream",
     "text": [
      "Accuracy for K-fold SVM Model is:  0.9768749999999999\n"
     ]
    }
   ],
   "source": [
    "final_accuracy = np.sum(accuracy) / 5\n",
    "print(\"Accuracy for K-fold SVM Model is: \", final_accuracy)"
   ]
  },
  {
   "cell_type": "code",
   "execution_count": 12,
   "id": "494130ba",
   "metadata": {},
   "outputs": [],
   "source": [
    "accuracy2 = []\n",
    "for i in range(5):\n",
    "    svc=svm.SVC(kernel = 'rbf', C = 0.1)\n",
    "    svc.fit(train_X[i], train_y[i])\n",
    "    y2 = svc.predict(test_X[i])\n",
    "    accuracy2.append(accuracy_score(test_y[i],y2))"
   ]
  },
  {
   "cell_type": "code",
   "execution_count": 13,
   "id": "0c02599e",
   "metadata": {},
   "outputs": [
    {
     "name": "stdout",
     "output_type": "stream",
     "text": [
      "Accuracy for K-fold SVM Model is:  0.9581250000000001\n"
     ]
    }
   ],
   "source": [
    "final_accuracy2 = np.sum(accuracy2) / 5\n",
    "print(\"Accuracy for K-fold SVM Model is: \", final_accuracy2)"
   ]
  },
  {
   "cell_type": "code",
   "execution_count": null,
   "id": "e69a55d1",
   "metadata": {},
   "outputs": [],
   "source": []
  }
 ],
 "metadata": {
  "kernelspec": {
   "display_name": "Python 3",
   "language": "python",
   "name": "python3"
  },
  "language_info": {
   "codemirror_mode": {
    "name": "ipython",
    "version": 3
   },
   "file_extension": ".py",
   "mimetype": "text/x-python",
   "name": "python",
   "nbconvert_exporter": "python",
   "pygments_lexer": "ipython3",
   "version": "3.8.8"
  }
 },
 "nbformat": 4,
 "nbformat_minor": 5
}
