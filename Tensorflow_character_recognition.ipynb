{
 "cells": [
  {
   "cell_type": "code",
   "execution_count": 1,
   "id": "c1fd4a2b",
   "metadata": {},
   "outputs": [],
   "source": [
    "# Python Image Library is a very useful library for processing images\n",
    "from keras.models import Sequential, Model\n",
    "from keras.layers.core import Activation\n",
    "from keras.layers.core import Flatten\n",
    "from keras.layers.core import Dropout\n",
    "from keras.layers.core import Dense\n",
    "from keras.layers import Conv2D, MaxPooling2D\n",
    "from keras import layers\n",
    "from sklearn.decomposition import PCA\n",
    "import matplotlib.pyplot as plt\n",
    "from sklearn.model_selection import KFold\n",
    "import numpy as np\n",
    "import pandas as pd\n",
    "import cv2 \n",
    "import os\n",
    "import fnmatch\n",
    "from sklearn import svm\n",
    "from sklearn.metrics import accuracy_score\n",
    "from tensorflow import keras\n",
    "import tensorflow as tf\n",
    "tf.config.run_functions_eagerly(True)"
   ]
  },
  {
   "cell_type": "code",
   "execution_count": 2,
   "id": "668696e8",
   "metadata": {},
   "outputs": [
    {
     "data": {
      "text/plain": [
       "8"
      ]
     },
     "execution_count": 2,
     "metadata": {},
     "output_type": "execute_result"
    }
   ],
   "source": [
    "train_path = \"Demo_dataset\"\n",
    "train_chinese = os.listdir(train_path)\n",
    "df_train = pd.DataFrame(columns=[\"character\", \"filename\", \"label\"])\n",
    "len(train_chinese)"
   ]
  },
  {
   "cell_type": "code",
   "execution_count": 16,
   "id": "a5fd234d",
   "metadata": {},
   "outputs": [],
   "source": [
    "k = 0\n",
    "for i in range(0, len(train_chinese)):\n",
    "    if i != \".DS_Store\":\n",
    "        l = os.listdir(train_path + '/' + train_chinese[i])\n",
    "        l = fnmatch.filter(l, '*.png')\n",
    "        if len(l) > 200:\n",
    "            l = l[:200]\n",
    "        label = [k] * len(l)\n",
    "        temp = pd.DataFrame({\n",
    "            \"character\": train_chinese[i],\n",
    "            \"filename\": l,\n",
    "            \"label\": label\n",
    "        })\n",
    "        #print(temp)\n",
    "        df_train = pd.concat([df_train, temp])      \n",
    "    k += 1"
   ]
  },
  {
   "cell_type": "code",
   "execution_count": 17,
   "id": "6f9e0851",
   "metadata": {},
   "outputs": [
    {
     "data": {
      "text/html": [
       "<div>\n",
       "<style scoped>\n",
       "    .dataframe tbody tr th:only-of-type {\n",
       "        vertical-align: middle;\n",
       "    }\n",
       "\n",
       "    .dataframe tbody tr th {\n",
       "        vertical-align: top;\n",
       "    }\n",
       "\n",
       "    .dataframe thead th {\n",
       "        text-align: right;\n",
       "    }\n",
       "</style>\n",
       "<table border=\"1\" class=\"dataframe\">\n",
       "  <thead>\n",
       "    <tr style=\"text-align: right;\">\n",
       "      <th></th>\n",
       "      <th>character</th>\n",
       "      <th>filename</th>\n",
       "      <th>label</th>\n",
       "    </tr>\n",
       "  </thead>\n",
       "  <tbody>\n",
       "    <tr>\n",
       "      <th>0</th>\n",
       "      <td>理</td>\n",
       "      <td>176.png</td>\n",
       "      <td>0</td>\n",
       "    </tr>\n",
       "    <tr>\n",
       "      <th>1</th>\n",
       "      <td>理</td>\n",
       "      <td>88.png</td>\n",
       "      <td>0</td>\n",
       "    </tr>\n",
       "    <tr>\n",
       "      <th>2</th>\n",
       "      <td>理</td>\n",
       "      <td>162.png</td>\n",
       "      <td>0</td>\n",
       "    </tr>\n",
       "    <tr>\n",
       "      <th>3</th>\n",
       "      <td>理</td>\n",
       "      <td>189.png</td>\n",
       "      <td>0</td>\n",
       "    </tr>\n",
       "    <tr>\n",
       "      <th>4</th>\n",
       "      <td>理</td>\n",
       "      <td>77.png</td>\n",
       "      <td>0</td>\n",
       "    </tr>\n",
       "    <tr>\n",
       "      <th>...</th>\n",
       "      <td>...</td>\n",
       "      <td>...</td>\n",
       "      <td>...</td>\n",
       "    </tr>\n",
       "    <tr>\n",
       "      <th>195</th>\n",
       "      <td>鸫</td>\n",
       "      <td>93.png</td>\n",
       "      <td>7</td>\n",
       "    </tr>\n",
       "    <tr>\n",
       "      <th>196</th>\n",
       "      <td>鸫</td>\n",
       "      <td>78.png</td>\n",
       "      <td>7</td>\n",
       "    </tr>\n",
       "    <tr>\n",
       "      <th>197</th>\n",
       "      <td>鸫</td>\n",
       "      <td>186.png</td>\n",
       "      <td>7</td>\n",
       "    </tr>\n",
       "    <tr>\n",
       "      <th>198</th>\n",
       "      <td>鸫</td>\n",
       "      <td>192.png</td>\n",
       "      <td>7</td>\n",
       "    </tr>\n",
       "    <tr>\n",
       "      <th>199</th>\n",
       "      <td>鸫</td>\n",
       "      <td>44.png</td>\n",
       "      <td>7</td>\n",
       "    </tr>\n",
       "  </tbody>\n",
       "</table>\n",
       "<p>1800 rows × 3 columns</p>\n",
       "</div>"
      ],
      "text/plain": [
       "    character filename label\n",
       "0           理  176.png     0\n",
       "1           理   88.png     0\n",
       "2           理  162.png     0\n",
       "3           理  189.png     0\n",
       "4           理   77.png     0\n",
       "..        ...      ...   ...\n",
       "195         鸫   93.png     7\n",
       "196         鸫   78.png     7\n",
       "197         鸫  186.png     7\n",
       "198         鸫  192.png     7\n",
       "199         鸫   44.png     7\n",
       "\n",
       "[1800 rows x 3 columns]"
      ]
     },
     "execution_count": 17,
     "metadata": {},
     "output_type": "execute_result"
    }
   ],
   "source": [
    "df_train"
   ]
  },
  {
   "cell_type": "code",
   "execution_count": 18,
   "id": "3fa4da42",
   "metadata": {},
   "outputs": [],
   "source": [
    "train_array = np.zeros((df_train.shape[0], 128, 128, 3))\n",
    "for i in range(df_train.shape[0]):\n",
    "    if df_train.iloc[i]['filename'] != \".DS_Store\":\n",
    "        image_path = train_path + '/' + df_train.iloc[i]['character'] + '/' + df_train.iloc[i]['filename']\n",
    "        # get grayscale image\n",
    "        # print(image_path)\n",
    "        image = cv2.imread(image_path)\n",
    "        # remove noise\n",
    "        out = cv2.medianBlur(image, 5)\n",
    "        # normalize the image\n",
    "        resultimage = np.zeros(out.shape)\n",
    "        normalizedimage = cv2.normalize(out, resultimage, 0, 255, cv2.NORM_MINMAX)\n",
    "        # resize the image \n",
    "        resizeimage = cv2.resize(normalizedimage, (128,128))\n",
    "\n",
    "        blue, green, red = cv2.split(resizeimage) \n",
    "        # apply principal component analysis\n",
    "        pca = PCA(50)\n",
    "        red_transformed = pca.fit_transform(red)\n",
    "        red_inverted = pca.inverse_transform(red_transformed)\n",
    "\n",
    "        #Applying to Green channel and then applying inverse transform to transformed array.\n",
    "        green_transformed = pca.fit_transform(green)\n",
    "        green_inverted = pca.inverse_transform(green_transformed)\n",
    "\n",
    "        #Applying to Blue channel and then applying inverse transform to transformed array.\n",
    "        blue_transformed = pca.fit_transform(blue)\n",
    "        blue_inverted = pca.inverse_transform(blue_transformed)\n",
    "\n",
    "        img_compressed = (np.dstack((red_inverted, red_inverted, red_inverted))).astype(np.uint8)\n",
    "        train_array[i] = img_compressed\n",
    "\n"
   ]
  },
  {
   "cell_type": "code",
   "execution_count": 19,
   "id": "22b76172",
   "metadata": {},
   "outputs": [],
   "source": [
    "train_array = train_array / 255"
   ]
  },
  {
   "cell_type": "code",
   "execution_count": 20,
   "id": "0f33d5af",
   "metadata": {},
   "outputs": [],
   "source": [
    "y = df_train[\"label\"].to_numpy()"
   ]
  },
  {
   "cell_type": "code",
   "execution_count": 21,
   "id": "89f14eda",
   "metadata": {},
   "outputs": [],
   "source": [
    "y = y.astype('int')"
   ]
  },
  {
   "cell_type": "code",
   "execution_count": 22,
   "id": "5b2b9cd2",
   "metadata": {},
   "outputs": [],
   "source": [
    "input_array = np.transpose(train_array, (0, 3, 1, 2))"
   ]
  },
  {
   "cell_type": "code",
   "execution_count": 23,
   "id": "14a3865d",
   "metadata": {},
   "outputs": [
    {
     "data": {
      "text/plain": [
       "(1800, 3, 128, 128)"
      ]
     },
     "execution_count": 23,
     "metadata": {},
     "output_type": "execute_result"
    }
   ],
   "source": [
    "input_array.shape"
   ]
  },
  {
   "cell_type": "code",
   "execution_count": 24,
   "id": "a028e252",
   "metadata": {},
   "outputs": [
    {
     "data": {
      "text/plain": [
       "8"
      ]
     },
     "execution_count": 24,
     "metadata": {},
     "output_type": "execute_result"
    }
   ],
   "source": [
    "len(np.unique(y))"
   ]
  },
  {
   "cell_type": "code",
   "execution_count": 25,
   "id": "bf37e353",
   "metadata": {},
   "outputs": [],
   "source": [
    "model = keras.models.Sequential([\n",
    "    \n",
    "    keras.layers.Conv2D(filters=64, kernel_size=(11,11), strides=(4,4), activation='relu', input_shape=(128,128,3)),\n",
    "    keras.layers.BatchNormalization(),\n",
    "    keras.layers.MaxPool2D(pool_size=(2,2)),\n",
    "    keras.layers.Conv2D(filters=128, kernel_size=(5,5), strides=(1,1), activation='relu', padding=\"same\"),\n",
    "    keras.layers.BatchNormalization(),\n",
    "    keras.layers.MaxPool2D(pool_size=(3,3)),\n",
    "    keras.layers.Conv2D(filters=128, kernel_size=(3,3), strides=(1,1), activation='relu', padding=\"same\"),\n",
    "    keras.layers.BatchNormalization(),\n",
    "    keras.layers.Conv2D(filters=128, kernel_size=(1,1), strides=(1,1), activation='relu', padding=\"same\"),\n",
    "    keras.layers.BatchNormalization(),\n",
    "    keras.layers.MaxPool2D(pool_size=(2,2)),\n",
    "    keras.layers.Flatten(),\n",
    "    \n",
    "    keras.layers.Dense(1024,activation='relu'),\n",
    "    keras.layers.Dropout(0.5),\n",
    "    keras.layers.Dense(1024,activation='relu'),\n",
    "    keras.layers.Dropout(0.5),\n",
    "    keras.layers.Dense(len(np.unique(y)),activation='softmax')  \n",
    "    \n",
    "])"
   ]
  },
  {
   "cell_type": "code",
   "execution_count": 26,
   "id": "49126118",
   "metadata": {},
   "outputs": [
    {
     "name": "stdout",
     "output_type": "stream",
     "text": [
      "Model: \"sequential_1\"\n",
      "_________________________________________________________________\n",
      "Layer (type)                 Output Shape              Param #   \n",
      "=================================================================\n",
      "conv2d_4 (Conv2D)            (None, 30, 30, 64)        23296     \n",
      "_________________________________________________________________\n",
      "batch_normalization_4 (Batch (None, 30, 30, 64)        256       \n",
      "_________________________________________________________________\n",
      "max_pooling2d_3 (MaxPooling2 (None, 15, 15, 64)        0         \n",
      "_________________________________________________________________\n",
      "conv2d_5 (Conv2D)            (None, 15, 15, 128)       204928    \n",
      "_________________________________________________________________\n",
      "batch_normalization_5 (Batch (None, 15, 15, 128)       512       \n",
      "_________________________________________________________________\n",
      "max_pooling2d_4 (MaxPooling2 (None, 5, 5, 128)         0         \n",
      "_________________________________________________________________\n",
      "conv2d_6 (Conv2D)            (None, 5, 5, 128)         147584    \n",
      "_________________________________________________________________\n",
      "batch_normalization_6 (Batch (None, 5, 5, 128)         512       \n",
      "_________________________________________________________________\n",
      "conv2d_7 (Conv2D)            (None, 5, 5, 128)         16512     \n",
      "_________________________________________________________________\n",
      "batch_normalization_7 (Batch (None, 5, 5, 128)         512       \n",
      "_________________________________________________________________\n",
      "max_pooling2d_5 (MaxPooling2 (None, 2, 2, 128)         0         \n",
      "_________________________________________________________________\n",
      "flatten_1 (Flatten)          (None, 512)               0         \n",
      "_________________________________________________________________\n",
      "dense_3 (Dense)              (None, 1024)              525312    \n",
      "_________________________________________________________________\n",
      "dropout_2 (Dropout)          (None, 1024)              0         \n",
      "_________________________________________________________________\n",
      "dense_4 (Dense)              (None, 1024)              1049600   \n",
      "_________________________________________________________________\n",
      "dropout_3 (Dropout)          (None, 1024)              0         \n",
      "_________________________________________________________________\n",
      "dense_5 (Dense)              (None, 8)                 8200      \n",
      "=================================================================\n",
      "Total params: 1,977,224\n",
      "Trainable params: 1,976,328\n",
      "Non-trainable params: 896\n",
      "_________________________________________________________________\n"
     ]
    }
   ],
   "source": [
    "model.compile(\n",
    "    loss='sparse_categorical_crossentropy',\n",
    "    optimizer=tf.optimizers.SGD(learning_rate=0.001),\n",
    "    metrics=['accuracy']    \n",
    ")\n",
    "model.summary()"
   ]
  },
  {
   "cell_type": "code",
   "execution_count": 27,
   "id": "2ad793ea",
   "metadata": {},
   "outputs": [],
   "source": [
    "from sklearn.model_selection import train_test_split\n",
    "X_train, X_test, y_train, y_test = train_test_split(train_array,y)"
   ]
  },
  {
   "cell_type": "code",
   "execution_count": 28,
   "id": "6d6ef5ae",
   "metadata": {},
   "outputs": [
    {
     "name": "stderr",
     "output_type": "stream",
     "text": [
      "/Library/Frameworks/Python.framework/Versions/3.6/lib/python3.6/site-packages/tensorflow/python/data/ops/dataset_ops.py:4212: UserWarning: Even though the `tf.config.experimental_run_functions_eagerly` option is set, this option does not apply to tf.data functions. To force eager execution of tf.data functions, please use `tf.data.experimental.enable_debug_mode()`.\n",
      "  \"Even though the `tf.config.experimental_run_functions_eagerly` \"\n"
     ]
    },
    {
     "name": "stdout",
     "output_type": "stream",
     "text": [
      "Epoch 1/40\n",
      "43/43 [==============================] - 7s 151ms/step - loss: 2.6320 - accuracy: 0.1822 - val_loss: 2.0766 - val_accuracy: 0.1489\n",
      "Epoch 2/40\n",
      "43/43 [==============================] - 7s 160ms/step - loss: 2.0610 - accuracy: 0.2889 - val_loss: 2.0790 - val_accuracy: 0.1422\n",
      "Epoch 3/40\n",
      "43/43 [==============================] - 7s 152ms/step - loss: 1.7369 - accuracy: 0.3933 - val_loss: 2.0749 - val_accuracy: 0.1889\n",
      "Epoch 4/40\n",
      "43/43 [==============================] - 7s 153ms/step - loss: 1.5478 - accuracy: 0.4578 - val_loss: 2.0251 - val_accuracy: 0.1978\n",
      "Epoch 5/40\n",
      "43/43 [==============================] - 6s 148ms/step - loss: 1.3568 - accuracy: 0.5237 - val_loss: 1.9340 - val_accuracy: 0.3022\n",
      "Epoch 6/40\n",
      "43/43 [==============================] - 7s 152ms/step - loss: 1.2367 - accuracy: 0.5719 - val_loss: 1.8039 - val_accuracy: 0.4378\n",
      "Epoch 7/40\n",
      "43/43 [==============================] - 6s 150ms/step - loss: 1.1111 - accuracy: 0.6281 - val_loss: 1.5651 - val_accuracy: 0.5022\n",
      "Epoch 8/40\n",
      "43/43 [==============================] - 7s 154ms/step - loss: 1.0321 - accuracy: 0.6474 - val_loss: 1.4006 - val_accuracy: 0.5733\n",
      "Epoch 9/40\n",
      "43/43 [==============================] - 7s 160ms/step - loss: 0.9399 - accuracy: 0.6704 - val_loss: 1.0304 - val_accuracy: 0.7000\n",
      "Epoch 10/40\n",
      "43/43 [==============================] - 6s 150ms/step - loss: 0.8520 - accuracy: 0.7141 - val_loss: 0.9574 - val_accuracy: 0.6844\n",
      "Epoch 11/40\n",
      "43/43 [==============================] - 6s 145ms/step - loss: 0.7888 - accuracy: 0.7215 - val_loss: 0.8213 - val_accuracy: 0.7511\n",
      "Epoch 12/40\n",
      "43/43 [==============================] - 7s 152ms/step - loss: 0.7079 - accuracy: 0.7741 - val_loss: 0.7368 - val_accuracy: 0.7822\n",
      "Epoch 13/40\n",
      "43/43 [==============================] - 7s 165ms/step - loss: 0.6657 - accuracy: 0.7881 - val_loss: 0.6585 - val_accuracy: 0.7889\n",
      "Epoch 14/40\n",
      "43/43 [==============================] - 7s 166ms/step - loss: 0.6043 - accuracy: 0.8081 - val_loss: 0.6535 - val_accuracy: 0.7933\n",
      "Epoch 15/40\n",
      "43/43 [==============================] - 7s 163ms/step - loss: 0.5267 - accuracy: 0.8415 - val_loss: 0.5650 - val_accuracy: 0.8333\n",
      "Epoch 16/40\n",
      "43/43 [==============================] - 7s 159ms/step - loss: 0.4941 - accuracy: 0.8437 - val_loss: 0.5161 - val_accuracy: 0.8533\n",
      "Epoch 17/40\n",
      "43/43 [==============================] - 7s 157ms/step - loss: 0.4864 - accuracy: 0.8363 - val_loss: 0.4983 - val_accuracy: 0.8511\n",
      "Epoch 18/40\n",
      "43/43 [==============================] - 7s 158ms/step - loss: 0.4309 - accuracy: 0.8644 - val_loss: 0.5148 - val_accuracy: 0.8333\n",
      "Epoch 19/40\n",
      "43/43 [==============================] - 7s 172ms/step - loss: 0.3917 - accuracy: 0.8859 - val_loss: 0.5256 - val_accuracy: 0.8644\n",
      "Epoch 20/40\n",
      "43/43 [==============================] - 7s 171ms/step - loss: 0.3851 - accuracy: 0.8852 - val_loss: 0.5102 - val_accuracy: 0.8400\n",
      "Epoch 21/40\n",
      "43/43 [==============================] - 7s 167ms/step - loss: 0.3528 - accuracy: 0.8963 - val_loss: 0.4870 - val_accuracy: 0.8556\n",
      "Epoch 22/40\n",
      "43/43 [==============================] - 7s 165ms/step - loss: 0.3241 - accuracy: 0.9015 - val_loss: 0.4014 - val_accuracy: 0.8822\n",
      "Epoch 23/40\n",
      "43/43 [==============================] - 7s 167ms/step - loss: 0.3130 - accuracy: 0.9089 - val_loss: 0.4180 - val_accuracy: 0.8622\n",
      "Epoch 24/40\n",
      "43/43 [==============================] - 7s 164ms/step - loss: 0.2849 - accuracy: 0.9215 - val_loss: 0.3803 - val_accuracy: 0.9044\n",
      "Epoch 25/40\n",
      "43/43 [==============================] - 7s 166ms/step - loss: 0.2707 - accuracy: 0.9156 - val_loss: 0.5360 - val_accuracy: 0.8311\n",
      "Epoch 26/40\n",
      "43/43 [==============================] - 7s 168ms/step - loss: 0.2684 - accuracy: 0.9156 - val_loss: 0.3547 - val_accuracy: 0.8956\n",
      "Epoch 27/40\n",
      "43/43 [==============================] - 7s 175ms/step - loss: 0.2473 - accuracy: 0.9252 - val_loss: 0.3327 - val_accuracy: 0.9067\n",
      "Epoch 28/40\n",
      "43/43 [==============================] - 7s 169ms/step - loss: 0.2329 - accuracy: 0.9356 - val_loss: 0.7352 - val_accuracy: 0.7400\n",
      "Epoch 29/40\n",
      "43/43 [==============================] - 7s 167ms/step - loss: 0.2117 - accuracy: 0.9363 - val_loss: 0.3756 - val_accuracy: 0.8622\n",
      "Epoch 30/40\n",
      "43/43 [==============================] - 7s 169ms/step - loss: 0.2092 - accuracy: 0.9504 - val_loss: 0.3955 - val_accuracy: 0.8689\n",
      "Epoch 31/40\n",
      "43/43 [==============================] - 7s 172ms/step - loss: 0.1875 - accuracy: 0.9474 - val_loss: 0.2637 - val_accuracy: 0.9200\n",
      "Epoch 32/40\n",
      "43/43 [==============================] - 7s 168ms/step - loss: 0.1737 - accuracy: 0.9570 - val_loss: 0.3605 - val_accuracy: 0.8756\n",
      "Epoch 33/40\n",
      "43/43 [==============================] - 7s 171ms/step - loss: 0.1634 - accuracy: 0.9607 - val_loss: 0.2878 - val_accuracy: 0.8933\n",
      "Epoch 34/40\n",
      "43/43 [==============================] - 7s 168ms/step - loss: 0.1630 - accuracy: 0.9548 - val_loss: 0.3169 - val_accuracy: 0.8933\n",
      "Epoch 35/40\n",
      "43/43 [==============================] - 7s 164ms/step - loss: 0.1467 - accuracy: 0.9622 - val_loss: 0.2628 - val_accuracy: 0.9267\n",
      "Epoch 36/40\n",
      "43/43 [==============================] - 7s 164ms/step - loss: 0.1553 - accuracy: 0.9585 - val_loss: 0.2696 - val_accuracy: 0.9200\n",
      "Epoch 37/40\n",
      "43/43 [==============================] - 7s 163ms/step - loss: 0.1472 - accuracy: 0.9593 - val_loss: 0.2648 - val_accuracy: 0.9200\n",
      "Epoch 38/40\n",
      "43/43 [==============================] - 7s 159ms/step - loss: 0.1352 - accuracy: 0.9681 - val_loss: 0.3462 - val_accuracy: 0.8711\n",
      "Epoch 39/40\n",
      "43/43 [==============================] - 7s 160ms/step - loss: 0.1251 - accuracy: 0.9719 - val_loss: 0.2396 - val_accuracy: 0.9178\n",
      "Epoch 40/40\n",
      "43/43 [==============================] - 7s 168ms/step - loss: 0.1212 - accuracy: 0.9674 - val_loss: 0.2628 - val_accuracy: 0.9133\n"
     ]
    }
   ],
   "source": [
    "history=model.fit(\n",
    "    X_train, y_train,\n",
    "    epochs = 40,\n",
    "    validation_data = (X_test, y_test),\n",
    "    validation_freq = 1\n",
    ")\n"
   ]
  },
  {
   "cell_type": "code",
   "execution_count": 29,
   "id": "6a33e163",
   "metadata": {},
   "outputs": [
    {
     "data": {
      "text/plain": [
       "<Figure size 720x720 with 0 Axes>"
      ]
     },
     "execution_count": 29,
     "metadata": {},
     "output_type": "execute_result"
    },
    {
     "data": {
      "image/png": "[encoded data removed]",
      "text/plain": [
       "<Figure size 432x288 with 1 Axes>"
      ]
     },
     "metadata": {
      "needs_background": "light"
     },
     "output_type": "display_data"
    },
    {
     "data": {
      "text/plain": [
       "<Figure size 720x720 with 0 Axes>"
      ]
     },
     "metadata": {},
     "output_type": "display_data"
    }
   ],
   "source": [
    "\n",
    "plt.plot(model.history.history['accuracy'],color='b',label='Training  Accuracy')\n",
    "plt.plot(model.history.history['val_accuracy'],color='r',label='Validation Accuracy')\n",
    "plt.xlabel(\"Epoches\")\n",
    "plt.ylabel(\"Accuracy\")\n",
    "plt.figure(figsize = (10, 10))\n"
   ]
  },
  {
   "cell_type": "code",
   "execution_count": 30,
   "id": "9694f791",
   "metadata": {},
   "outputs": [
    {
     "data": {
      "text/plain": [
       "0.9266666769981384"
      ]
     },
     "execution_count": 30,
     "metadata": {},
     "output_type": "execute_result"
    }
   ],
   "source": [
    "np.max(history.history['val_accuracy'])"
   ]
  },
  {
   "cell_type": "code",
   "execution_count": null,
   "id": "33356632",
   "metadata": {},
   "outputs": [],
   "source": [
    " "
   ]
  }
 ],
 "metadata": {
  "kernelspec": {
   "display_name": "Python 3",
   "language": "python",
   "name": "python3"
  },
  "language_info": {
   "codemirror_mode": {
    "name": "ipython",
    "version": 3
   },
   "file_extension": ".py",
   "mimetype": "text/x-python",
   "name": "python",
   "nbconvert_exporter": "python",
   "pygments_lexer": "ipython3",
   "version": "3.6.4"
  }
 },
 "nbformat": 4,
 "nbformat_minor": 5
}
